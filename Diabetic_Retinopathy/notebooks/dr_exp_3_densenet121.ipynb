{
 "cells": [
  {
   "cell_type": "markdown",
   "metadata": {},
   "source": [
    "## Experiment No: 3\n",
    "## Project: Diabetic Retinopathy\n",
    "## Author: Shubham Kumar Singh\n",
    "## Date: 17/10/2021\n",
    "   \n",
    "### Problem Statement: Classify Diabetic Retinopathy from diagnostic images\n",
    "### Dataset: APTOS Blindness Detection Challenge\n",
    "### Hypothesis: Create Ensembles of resnets and densenets using resnets as pretrained feature extractors\n",
    "### Model: Ensemble of Resnet152 and Densenet121\n",
    "### Training: 10 Epochs with SGD and CrossEntropyLoss\n",
    "### Evaluation: Accuracy and Quadratic Kappa"
   ]
  },
  {
   "cell_type": "markdown",
   "metadata": {},
   "source": [
    "### Data Preparation:"
   ]
  },
  {
   "cell_type": "code",
   "execution_count": 1,
   "metadata": {},
   "outputs": [],
   "source": [
    "path = \"/home/hexart/dataset/aptos2019-blindness-detection/\""
   ]
  },
  {
   "cell_type": "code",
   "execution_count": 2,
   "metadata": {},
   "outputs": [],
   "source": [
    "import pandas as pd\n",
    "import numpy as np\n",
    "import os"
   ]
  },
  {
   "cell_type": "code",
   "execution_count": 3,
   "metadata": {},
   "outputs": [],
   "source": [
    "df = pd.read_csv(os.path.join(path,\"train.csv\"))"
   ]
  },
  {
   "cell_type": "code",
   "execution_count": 4,
   "metadata": {},
   "outputs": [
    {
     "data": {
      "text/html": [
       "<div>\n",
       "<style scoped>\n",
       "    .dataframe tbody tr th:only-of-type {\n",
       "        vertical-align: middle;\n",
       "    }\n",
       "\n",
       "    .dataframe tbody tr th {\n",
       "        vertical-align: top;\n",
       "    }\n",
       "\n",
       "    .dataframe thead th {\n",
       "        text-align: right;\n",
       "    }\n",
       "</style>\n",
       "<table border=\"1\" class=\"dataframe\">\n",
       "  <thead>\n",
       "    <tr style=\"text-align: right;\">\n",
       "      <th></th>\n",
       "      <th>diagnosis</th>\n",
       "    </tr>\n",
       "  </thead>\n",
       "  <tbody>\n",
       "    <tr>\n",
       "      <th>count</th>\n",
       "      <td>3662.000000</td>\n",
       "    </tr>\n",
       "    <tr>\n",
       "      <th>mean</th>\n",
       "      <td>1.126980</td>\n",
       "    </tr>\n",
       "    <tr>\n",
       "      <th>std</th>\n",
       "      <td>1.298409</td>\n",
       "    </tr>\n",
       "    <tr>\n",
       "      <th>min</th>\n",
       "      <td>0.000000</td>\n",
       "    </tr>\n",
       "    <tr>\n",
       "      <th>25%</th>\n",
       "      <td>0.000000</td>\n",
       "    </tr>\n",
       "    <tr>\n",
       "      <th>50%</th>\n",
       "      <td>1.000000</td>\n",
       "    </tr>\n",
       "    <tr>\n",
       "      <th>75%</th>\n",
       "      <td>2.000000</td>\n",
       "    </tr>\n",
       "    <tr>\n",
       "      <th>max</th>\n",
       "      <td>4.000000</td>\n",
       "    </tr>\n",
       "  </tbody>\n",
       "</table>\n",
       "</div>"
      ],
      "text/plain": [
       "         diagnosis\n",
       "count  3662.000000\n",
       "mean      1.126980\n",
       "std       1.298409\n",
       "min       0.000000\n",
       "25%       0.000000\n",
       "50%       1.000000\n",
       "75%       2.000000\n",
       "max       4.000000"
      ]
     },
     "execution_count": 4,
     "metadata": {},
     "output_type": "execute_result"
    }
   ],
   "source": [
    "df.describe()"
   ]
  },
  {
   "cell_type": "code",
   "execution_count": 5,
   "metadata": {},
   "outputs": [
    {
     "name": "stdout",
     "output_type": "stream",
     "text": [
      "<class 'pandas.core.frame.DataFrame'>\n",
      "RangeIndex: 3662 entries, 0 to 3661\n",
      "Data columns (total 2 columns):\n",
      " #   Column     Non-Null Count  Dtype \n",
      "---  ------     --------------  ----- \n",
      " 0   id_code    3662 non-null   object\n",
      " 1   diagnosis  3662 non-null   int64 \n",
      "dtypes: int64(1), object(1)\n",
      "memory usage: 57.3+ KB\n"
     ]
    }
   ],
   "source": [
    "df.info()"
   ]
  },
  {
   "cell_type": "code",
   "execution_count": 6,
   "metadata": {},
   "outputs": [
    {
     "data": {
      "text/plain": [
       "0    1805\n",
       "2     999\n",
       "1     370\n",
       "4     295\n",
       "3     193\n",
       "Name: diagnosis, dtype: int64"
      ]
     },
     "execution_count": 6,
     "metadata": {},
     "output_type": "execute_result"
    }
   ],
   "source": [
    "df.diagnosis.value_counts()"
   ]
  },
  {
   "cell_type": "code",
   "execution_count": 7,
   "metadata": {},
   "outputs": [],
   "source": [
    "def get_sample(dataset:str) -> np.ndarray:\n",
    "    \"\"\"\n",
    "    This function will sample unbalanced dr_dataset into a balanced dr_dataset\n",
    "    ***FOR DIABETIC RETINPATHY ONLY***\n",
    "    :param dataset: csv file of the dr_dataset\n",
    "    :return: numpy array containing shuffled balanced data samples\n",
    "    \"\"\"\n",
    "\n",
    "    df_data = pd.read_csv(dataset)\n",
    "    df_data_classes = dict.fromkeys(pd.unique(df_data.diagnosis))\n",
    "    for i in pd.unique(df_data.diagnosis):\n",
    "        df_data_classes[i] = df_data[df_data.diagnosis == i]\n",
    "\n",
    "\n",
    "    n = np.min((df_data_classes[0].shape[0],\n",
    "                df_data_classes[1].shape[0],\n",
    "                df_data_classes[2].shape[0],\n",
    "                df_data_classes[3].shape[0],\n",
    "                df_data_classes[4].shape[0],))\n",
    "\n",
    "    n = int(n - (n//4))\n",
    "\n",
    "    rng = np.random.default_rng()\n",
    "    train_samples = np.concatenate((rng.permutation(df_data_classes[0])[:n],\n",
    "                                   rng.permutation(df_data_classes[1])[:n],\n",
    "                                   rng.permutation(df_data_classes[2])[:n],\n",
    "                                   rng.permutation(df_data_classes[3])[:n],\n",
    "                                   rng.permutation(df_data_classes[4])[:n],))\n",
    "\n",
    "    random_training_samples = rng.permutation(train_samples)\n",
    "\n",
    "    return random_training_samples"
   ]
  },
  {
   "cell_type": "code",
   "execution_count": 8,
   "metadata": {},
   "outputs": [],
   "source": [
    "data = get_sample(os.path.join(path,\"train.csv\"))"
   ]
  },
  {
   "cell_type": "code",
   "execution_count": 9,
   "metadata": {},
   "outputs": [
    {
     "data": {
      "text/plain": [
       "(725, 2)"
      ]
     },
     "execution_count": 9,
     "metadata": {},
     "output_type": "execute_result"
    }
   ],
   "source": [
    "data.shape"
   ]
  },
  {
   "cell_type": "code",
   "execution_count": 10,
   "metadata": {},
   "outputs": [],
   "source": [
    "training_set = data[:int(len(data)*0.8)]\n",
    "testing_set = data[int(len(data) * 0.8):]"
   ]
  },
  {
   "cell_type": "code",
   "execution_count": 11,
   "metadata": {},
   "outputs": [
    {
     "data": {
      "text/plain": [
       "True"
      ]
     },
     "execution_count": 11,
     "metadata": {},
     "output_type": "execute_result"
    }
   ],
   "source": [
    "import torch\n",
    "torch.cuda.is_available()"
   ]
  },
  {
   "cell_type": "code",
   "execution_count": 12,
   "metadata": {},
   "outputs": [],
   "source": [
    "image_dataset = dict.fromkeys(['train','val'])"
   ]
  },
  {
   "cell_type": "code",
   "execution_count": 13,
   "metadata": {},
   "outputs": [],
   "source": [
    "from torch.utils.data import Dataset\n",
    "from PIL import Image\n",
    "from torchvision import transforms\n",
    "\n",
    "class dr_dataset(Dataset):\n",
    "\n",
    "    def __init__(self, numpy_array, data_dir, transform=None, target_transform=None, ext=\".png\"):\n",
    "        self.img_labels = pd.DataFrame(numpy_array)\n",
    "        self.data_dir = data_dir\n",
    "        self.transform = transform\n",
    "        self.target_transform = target_transform\n",
    "        self.ext = ext\n",
    "\n",
    "\n",
    "\n",
    "    def __len__(self):\n",
    "        return len(self.img_labels)\n",
    "\n",
    "    def __getitem__(self, item):\n",
    "        img_path = os.path.join(self.data_dir,self.img_labels.iloc[item,0]+self.ext)\n",
    "        img = Image.open(img_path)\n",
    "        label = self.img_labels.iloc[item,1]\n",
    "        if self.transform:\n",
    "            img = self.transform(img)\n",
    "        else:\n",
    "            self.transform = transforms.Compose([\n",
    "                transforms.Resize(255),\n",
    "                transforms.CenterCrop(224),\n",
    "                transforms.ToTensor(),\n",
    "                transforms.Normalize([0.485, 0.456, 0.406],\n",
    "                                     [0.229, 0.224, 0.225]),\n",
    "            ])\n",
    "            img = self.transform(img)\n",
    "        if self.target_transform:\n",
    "            label = self.target_transform(label)\n",
    "\n",
    "        return (img, label,)"
   ]
  },
  {
   "cell_type": "code",
   "execution_count": 14,
   "metadata": {},
   "outputs": [],
   "source": [
    "data_transforms = {\n",
    "    'train': transforms.Compose([\n",
    "        transforms.RandomResizedCrop(224),\n",
    "        transforms.RandomHorizontalFlip(),\n",
    "        transforms.ToTensor(),\n",
    "        transforms.Normalize([0.485, 0.456, 0.406], [0.229, 0.224, 0.225])\n",
    "    ]),\n",
    "    'val': transforms.Compose([\n",
    "        transforms.Resize(256),\n",
    "        transforms.CenterCrop(224),\n",
    "        transforms.ToTensor(),\n",
    "        transforms.Normalize([0.485, 0.456, 0.406], [0.229, 0.224, 0.225])\n",
    "    ])\n",
    "}"
   ]
  },
  {
   "cell_type": "code",
   "execution_count": 15,
   "metadata": {},
   "outputs": [],
   "source": [
    "image_dataset['train'] = dr_dataset(numpy_array=training_set,\n",
    "                                     data_dir=os.path.join(path,'train_images'),\n",
    "                                     transform = data_transforms['train'])\n",
    "image_dataset['val'] = dr_dataset(numpy_array=testing_set,\n",
    "                                     data_dir=os.path.join(path,'train_images'),\n",
    "                                     transform = data_transforms['val'])"
   ]
  },
  {
   "cell_type": "code",
   "execution_count": 16,
   "metadata": {},
   "outputs": [],
   "source": [
    "from torch.utils.data import DataLoader\n",
    "\n",
    "dataloaders = {x: torch.utils.data.DataLoader(image_dataset[x],\n",
    "                                              batch_size=12,\n",
    "                                              shuffle=True,\n",
    "                                              num_workers=2)\n",
    "               for x in ['train','val']}"
   ]
  },
  {
   "cell_type": "code",
   "execution_count": 17,
   "metadata": {},
   "outputs": [],
   "source": [
    "dataset_sizes = {x: len(image_dataset[x]) for x in ['train', 'val']}\n",
    "\n",
    "\n",
    "class_names = {\n",
    "    0 : \"No DR\",\n",
    "    1 : \"NPDR Mild\",\n",
    "    2 : \"NPDR Moderate\",\n",
    "    3 : \"NPDR Severe\",\n",
    "    4 : \"PDR\"\n",
    "}\n"
   ]
  },
  {
   "cell_type": "code",
   "execution_count": null,
   "metadata": {},
   "outputs": [],
   "source": []
  },
  {
   "cell_type": "markdown",
   "metadata": {},
   "source": [
    "### Model Building:"
   ]
  },
  {
   "cell_type": "code",
   "execution_count": 18,
   "metadata": {},
   "outputs": [],
   "source": [
    "import torch.nn as nn\n",
    "import torch.optim as optim\n",
    "from torch.optim import lr_scheduler\n",
    "from torchvision import models\n",
    "import time\n",
    "from sklearn.metrics import cohen_kappa_score\n",
    "\n",
    "\n",
    "device = torch.device(\"cuda:0\" if torch.cuda.is_available() else 'cpu')"
   ]
  },
  {
   "cell_type": "code",
   "execution_count": 19,
   "metadata": {},
   "outputs": [],
   "source": [
    "model_ft = models.densenet121(pretrained=True)\n",
    "num_ftrs = model_ft.classifier.in_features\n",
    "model_ft.classifier = nn.Linear(num_ftrs, 5)\n",
    "model_ft = model_ft.to(device)\n",
    "criterion = nn.CrossEntropyLoss()\n",
    "optimizer_ft = optim.SGD(model_ft.parameters(), lr=0.001, momentum = 0.9)\n",
    "exp_lr_scheduler = lr_scheduler.StepLR(optimizer_ft, step_size = 7, gamma=0.1)"
   ]
  },
  {
   "cell_type": "markdown",
   "metadata": {},
   "source": [
    "### Training & Testing:"
   ]
  },
  {
   "cell_type": "code",
   "execution_count": null,
   "metadata": {},
   "outputs": [],
   "source": []
  },
  {
   "cell_type": "code",
   "execution_count": 20,
   "metadata": {},
   "outputs": [],
   "source": [
    "def train_model(model, criterion, optimizer, scheduler, num_epochs=25):\n",
    "    since = time.time()\n",
    "    metrics = []\n",
    "    for epoch in range(num_epochs):\n",
    "        print('\\nEpoch {}/{}'.format(epoch, num_epochs - 1))\n",
    "        print('-' * 10)\n",
    "        \n",
    "        predictions = []\n",
    "        ground_truth = []\n",
    "\n",
    "        for phase in ['train', 'val']:\n",
    "\n",
    "            if phase == 'train':\n",
    "                model.train()\n",
    "            else:\n",
    "                model.eval()\n",
    "\n",
    "            running_loss = 0.0\n",
    "            running_corrects = 0.0\n",
    "\n",
    "            for inputs, labels in dataloaders[phase]:\n",
    "                inputs = inputs.to(device)\n",
    "                labels = labels.to(device)\n",
    "\n",
    "                optimizer.zero_grad()\n",
    "\n",
    "                with torch.set_grad_enabled(phase == 'train'):\n",
    "                    outputs = model(inputs)\n",
    "                    _, preds = torch.max(outputs, 1)\n",
    "                    loss = criterion(outputs, labels)\n",
    "\n",
    "                    if phase == 'train':\n",
    "                        loss.backward()\n",
    "                        optimizer.step()\n",
    "\n",
    "                running_loss += loss.item() * inputs.size(0)\n",
    "                running_corrects += torch.sum(preds == labels)\n",
    "                predictions.extend(preds.cpu().detach().numpy())\n",
    "                ground_truth.extend(labels.cpu().detach().numpy())\n",
    "\n",
    "            if phase == 'train':\n",
    "                scheduler.step()\n",
    "                \n",
    "            epoch_loss = running_loss / dataset_sizes[phase]\n",
    "            epoch_acc = running_corrects.double() / dataset_sizes[phase]\n",
    "            epoch_kappa = cohen_kappa_score(predictions, ground_truth)\n",
    "            print('{} Loss:\\t{:.4f}\\tAcc:\\t{:.4f}\\tKappa:\\t{:.4f}'.format(phase, epoch_loss, epoch_acc, epoch_kappa))\n",
    "            if phase == 'train':\n",
    "                metrics.append([epoch,\n",
    "                                epoch_loss,\n",
    "                                np.double(epoch_acc.cpu().detach().numpy()),\n",
    "                                epoch_kappa])\n",
    "            else:\n",
    "                metrics[epoch].extend([epoch_loss,\n",
    "                                       np.double(epoch_acc.cpu().detach().numpy()),\n",
    "                                       epoch_kappa])\n",
    "                \n",
    "\n",
    "    time_elapsed = time.time() - since\n",
    "    print(\"Training Completed in {:.0f}m {:.0f}s\".format(time_elapsed // 60, time_elapsed % 60))\n",
    "\n",
    "    return (model,metrics,predictions, ground_truth)"
   ]
  },
  {
   "cell_type": "code",
   "execution_count": 21,
   "metadata": {},
   "outputs": [
    {
     "name": "stdout",
     "output_type": "stream",
     "text": [
      "\n",
      "Epoch 0/14\n",
      "----------\n",
      "train Loss:\t1.4824\tAcc:\t0.3310\tKappa:\t0.1621\n",
      "val Loss:\t1.2215\tAcc:\t0.4966\tKappa:\t0.2052\n",
      "\n",
      "Epoch 1/14\n",
      "----------\n",
      "train Loss:\t1.2540\tAcc:\t0.4776\tKappa:\t0.3459\n",
      "val Loss:\t1.1694\tAcc:\t0.5034\tKappa:\t0.3534\n",
      "\n",
      "Epoch 2/14\n",
      "----------\n",
      "train Loss:\t1.0986\tAcc:\t0.5483\tKappa:\t0.4345\n",
      "val Loss:\t1.0419\tAcc:\t0.6000\tKappa:\t0.4483\n",
      "\n",
      "Epoch 3/14\n",
      "----------\n",
      "train Loss:\t1.0010\tAcc:\t0.6034\tKappa:\t0.5037\n",
      "val Loss:\t1.0224\tAcc:\t0.5931\tKappa:\t0.5017\n",
      "\n",
      "Epoch 4/14\n",
      "----------\n",
      "train Loss:\t1.0216\tAcc:\t0.5931\tKappa:\t0.4912\n",
      "val Loss:\t1.1819\tAcc:\t0.5310\tKappa:\t0.4759\n",
      "\n",
      "Epoch 5/14\n",
      "----------\n",
      "train Loss:\t0.9618\tAcc:\t0.6052\tKappa:\t0.5058\n",
      "val Loss:\t0.9798\tAcc:\t0.6138\tKappa:\t0.5086\n",
      "\n",
      "Epoch 6/14\n",
      "----------\n",
      "train Loss:\t0.9211\tAcc:\t0.6397\tKappa:\t0.5493\n",
      "val Loss:\t1.1180\tAcc:\t0.5793\tKappa:\t0.5345\n",
      "\n",
      "Epoch 7/14\n",
      "----------\n",
      "train Loss:\t0.8351\tAcc:\t0.6483\tKappa:\t0.5596\n",
      "val Loss:\t0.9473\tAcc:\t0.6552\tKappa:\t0.5621\n",
      "\n",
      "Epoch 8/14\n",
      "----------\n",
      "train Loss:\t0.7757\tAcc:\t0.7069\tKappa:\t0.6333\n",
      "val Loss:\t0.9358\tAcc:\t0.6345\tKappa:\t0.6155\n",
      "\n",
      "Epoch 9/14\n",
      "----------\n",
      "train Loss:\t0.7825\tAcc:\t0.6845\tKappa:\t0.6055\n",
      "val Loss:\t0.9746\tAcc:\t0.6345\tKappa:\t0.5931\n",
      "\n",
      "Epoch 10/14\n",
      "----------\n",
      "train Loss:\t0.6896\tAcc:\t0.7241\tKappa:\t0.6549\n",
      "val Loss:\t0.9223\tAcc:\t0.6345\tKappa:\t0.6328\n",
      "\n",
      "Epoch 11/14\n",
      "----------\n",
      "train Loss:\t0.7219\tAcc:\t0.7466\tKappa:\t0.6830\n",
      "val Loss:\t0.9429\tAcc:\t0.6207\tKappa:\t0.6517\n",
      "\n",
      "Epoch 12/14\n",
      "----------\n",
      "train Loss:\t0.7277\tAcc:\t0.7138\tKappa:\t0.6420\n",
      "val Loss:\t0.9098\tAcc:\t0.6345\tKappa:\t0.6224\n",
      "\n",
      "Epoch 13/14\n",
      "----------\n",
      "train Loss:\t0.7040\tAcc:\t0.7414\tKappa:\t0.6764\n",
      "val Loss:\t0.9238\tAcc:\t0.6000\tKappa:\t0.6414\n",
      "\n",
      "Epoch 14/14\n",
      "----------\n",
      "train Loss:\t0.7043\tAcc:\t0.7310\tKappa:\t0.6636\n",
      "val Loss:\t0.8965\tAcc:\t0.6276\tKappa:\t0.6379\n",
      "Training Completed in 8m 4s\n"
     ]
    }
   ],
   "source": [
    "model, metrics, predictions, ground_truth = train_model(model_ft,criterion,\n",
    "                                                        optimizer_ft,\n",
    "                                                        exp_lr_scheduler,\n",
    "                                                        num_epochs=15)"
   ]
  },
  {
   "cell_type": "markdown",
   "metadata": {},
   "source": [
    "### Evaluation:"
   ]
  },
  {
   "cell_type": "code",
   "execution_count": 22,
   "metadata": {},
   "outputs": [],
   "source": [
    "import matplotlib.pyplot as plt"
   ]
  },
  {
   "cell_type": "code",
   "execution_count": 23,
   "metadata": {},
   "outputs": [],
   "source": [
    "df = pd.DataFrame(metrics, columns=['epoch','t_loss','t_acc','t_kappa','v_loss','v_acc','v_kappa',])"
   ]
  },
  {
   "cell_type": "code",
   "execution_count": 24,
   "metadata": {},
   "outputs": [
    {
     "data": {
      "text/html": [
       "<div>\n",
       "<style scoped>\n",
       "    .dataframe tbody tr th:only-of-type {\n",
       "        vertical-align: middle;\n",
       "    }\n",
       "\n",
       "    .dataframe tbody tr th {\n",
       "        vertical-align: top;\n",
       "    }\n",
       "\n",
       "    .dataframe thead th {\n",
       "        text-align: right;\n",
       "    }\n",
       "</style>\n",
       "<table border=\"1\" class=\"dataframe\">\n",
       "  <thead>\n",
       "    <tr style=\"text-align: right;\">\n",
       "      <th></th>\n",
       "      <th>epoch</th>\n",
       "      <th>t_loss</th>\n",
       "      <th>t_acc</th>\n",
       "      <th>t_kappa</th>\n",
       "      <th>v_loss</th>\n",
       "      <th>v_acc</th>\n",
       "      <th>v_kappa</th>\n",
       "    </tr>\n",
       "  </thead>\n",
       "  <tbody>\n",
       "    <tr>\n",
       "      <th>0</th>\n",
       "      <td>0</td>\n",
       "      <td>1.482389</td>\n",
       "      <td>0.331034</td>\n",
       "      <td>0.162059</td>\n",
       "      <td>1.221504</td>\n",
       "      <td>0.496552</td>\n",
       "      <td>0.205172</td>\n",
       "    </tr>\n",
       "    <tr>\n",
       "      <th>1</th>\n",
       "      <td>1</td>\n",
       "      <td>1.253978</td>\n",
       "      <td>0.477586</td>\n",
       "      <td>0.345940</td>\n",
       "      <td>1.169361</td>\n",
       "      <td>0.503448</td>\n",
       "      <td>0.353448</td>\n",
       "    </tr>\n",
       "    <tr>\n",
       "      <th>2</th>\n",
       "      <td>2</td>\n",
       "      <td>1.098618</td>\n",
       "      <td>0.548276</td>\n",
       "      <td>0.434523</td>\n",
       "      <td>1.041948</td>\n",
       "      <td>0.600000</td>\n",
       "      <td>0.448276</td>\n",
       "    </tr>\n",
       "    <tr>\n",
       "      <th>3</th>\n",
       "      <td>3</td>\n",
       "      <td>1.001021</td>\n",
       "      <td>0.603448</td>\n",
       "      <td>0.503739</td>\n",
       "      <td>1.022445</td>\n",
       "      <td>0.593103</td>\n",
       "      <td>0.501724</td>\n",
       "    </tr>\n",
       "    <tr>\n",
       "      <th>4</th>\n",
       "      <td>4</td>\n",
       "      <td>1.021602</td>\n",
       "      <td>0.593103</td>\n",
       "      <td>0.491245</td>\n",
       "      <td>1.181875</td>\n",
       "      <td>0.531034</td>\n",
       "      <td>0.475862</td>\n",
       "    </tr>\n",
       "  </tbody>\n",
       "</table>\n",
       "</div>"
      ],
      "text/plain": [
       "   epoch    t_loss     t_acc   t_kappa    v_loss     v_acc   v_kappa\n",
       "0      0  1.482389  0.331034  0.162059  1.221504  0.496552  0.205172\n",
       "1      1  1.253978  0.477586  0.345940  1.169361  0.503448  0.353448\n",
       "2      2  1.098618  0.548276  0.434523  1.041948  0.600000  0.448276\n",
       "3      3  1.001021  0.603448  0.503739  1.022445  0.593103  0.501724\n",
       "4      4  1.021602  0.593103  0.491245  1.181875  0.531034  0.475862"
      ]
     },
     "execution_count": 24,
     "metadata": {},
     "output_type": "execute_result"
    }
   ],
   "source": [
    "df.head()"
   ]
  },
  {
   "cell_type": "code",
   "execution_count": 25,
   "metadata": {},
   "outputs": [
    {
     "data": {
      "text/html": [
       "<div>\n",
       "<style scoped>\n",
       "    .dataframe tbody tr th:only-of-type {\n",
       "        vertical-align: middle;\n",
       "    }\n",
       "\n",
       "    .dataframe tbody tr th {\n",
       "        vertical-align: top;\n",
       "    }\n",
       "\n",
       "    .dataframe thead th {\n",
       "        text-align: right;\n",
       "    }\n",
       "</style>\n",
       "<table border=\"1\" class=\"dataframe\">\n",
       "  <thead>\n",
       "    <tr style=\"text-align: right;\">\n",
       "      <th></th>\n",
       "      <th>epoch</th>\n",
       "      <th>t_loss</th>\n",
       "      <th>t_acc</th>\n",
       "      <th>t_kappa</th>\n",
       "      <th>v_loss</th>\n",
       "      <th>v_acc</th>\n",
       "      <th>v_kappa</th>\n",
       "    </tr>\n",
       "  </thead>\n",
       "  <tbody>\n",
       "    <tr>\n",
       "      <th>count</th>\n",
       "      <td>15.000000</td>\n",
       "      <td>15.000000</td>\n",
       "      <td>15.000000</td>\n",
       "      <td>15.000000</td>\n",
       "      <td>15.000000</td>\n",
       "      <td>15.000000</td>\n",
       "      <td>15.000000</td>\n",
       "    </tr>\n",
       "    <tr>\n",
       "      <th>mean</th>\n",
       "      <td>7.000000</td>\n",
       "      <td>0.912089</td>\n",
       "      <td>0.632989</td>\n",
       "      <td>0.540728</td>\n",
       "      <td>1.012532</td>\n",
       "      <td>0.597241</td>\n",
       "      <td>0.532299</td>\n",
       "    </tr>\n",
       "    <tr>\n",
       "      <th>std</th>\n",
       "      <td>4.472136</td>\n",
       "      <td>0.230971</td>\n",
       "      <td>0.114401</td>\n",
       "      <td>0.143399</td>\n",
       "      <td>0.109073</td>\n",
       "      <td>0.049513</td>\n",
       "      <td>0.124724</td>\n",
       "    </tr>\n",
       "    <tr>\n",
       "      <th>min</th>\n",
       "      <td>0.000000</td>\n",
       "      <td>0.689553</td>\n",
       "      <td>0.331034</td>\n",
       "      <td>0.162059</td>\n",
       "      <td>0.896468</td>\n",
       "      <td>0.496552</td>\n",
       "      <td>0.205172</td>\n",
       "    </tr>\n",
       "    <tr>\n",
       "      <th>25%</th>\n",
       "      <td>3.500000</td>\n",
       "      <td>0.724809</td>\n",
       "      <td>0.598276</td>\n",
       "      <td>0.497492</td>\n",
       "      <td>0.929796</td>\n",
       "      <td>0.586207</td>\n",
       "      <td>0.488793</td>\n",
       "    </tr>\n",
       "    <tr>\n",
       "      <th>50%</th>\n",
       "      <td>7.000000</td>\n",
       "      <td>0.835126</td>\n",
       "      <td>0.648276</td>\n",
       "      <td>0.559563</td>\n",
       "      <td>0.974627</td>\n",
       "      <td>0.613793</td>\n",
       "      <td>0.562069</td>\n",
       "    </tr>\n",
       "    <tr>\n",
       "      <th>75%</th>\n",
       "      <td>10.500000</td>\n",
       "      <td>1.011312</td>\n",
       "      <td>0.718966</td>\n",
       "      <td>0.648424</td>\n",
       "      <td>1.079973</td>\n",
       "      <td>0.634483</td>\n",
       "      <td>0.627586</td>\n",
       "    </tr>\n",
       "    <tr>\n",
       "      <th>max</th>\n",
       "      <td>14.000000</td>\n",
       "      <td>1.482389</td>\n",
       "      <td>0.746552</td>\n",
       "      <td>0.683008</td>\n",
       "      <td>1.221504</td>\n",
       "      <td>0.655172</td>\n",
       "      <td>0.651724</td>\n",
       "    </tr>\n",
       "  </tbody>\n",
       "</table>\n",
       "</div>"
      ],
      "text/plain": [
       "           epoch     t_loss      t_acc    t_kappa     v_loss      v_acc  \\\n",
       "count  15.000000  15.000000  15.000000  15.000000  15.000000  15.000000   \n",
       "mean    7.000000   0.912089   0.632989   0.540728   1.012532   0.597241   \n",
       "std     4.472136   0.230971   0.114401   0.143399   0.109073   0.049513   \n",
       "min     0.000000   0.689553   0.331034   0.162059   0.896468   0.496552   \n",
       "25%     3.500000   0.724809   0.598276   0.497492   0.929796   0.586207   \n",
       "50%     7.000000   0.835126   0.648276   0.559563   0.974627   0.613793   \n",
       "75%    10.500000   1.011312   0.718966   0.648424   1.079973   0.634483   \n",
       "max    14.000000   1.482389   0.746552   0.683008   1.221504   0.655172   \n",
       "\n",
       "         v_kappa  \n",
       "count  15.000000  \n",
       "mean    0.532299  \n",
       "std     0.124724  \n",
       "min     0.205172  \n",
       "25%     0.488793  \n",
       "50%     0.562069  \n",
       "75%     0.627586  \n",
       "max     0.651724  "
      ]
     },
     "execution_count": 25,
     "metadata": {},
     "output_type": "execute_result"
    }
   ],
   "source": [
    "df.describe()"
   ]
  },
  {
   "cell_type": "code",
   "execution_count": 26,
   "metadata": {},
   "outputs": [],
   "source": [
    "results = \"/home/hexart/hexart/Hexart_Research_Cohort_2/Diabetic_Retinopathy/results\"\n",
    "df.to_csv(os.path.join(results,\"dr_exp_{}_{}.csv\".format(3,'ensemble')))"
   ]
  },
  {
   "cell_type": "code",
   "execution_count": 27,
   "metadata": {},
   "outputs": [],
   "source": [
    "plots = \"/home/hexart/hexart/Hexart_Research_Cohort_2/Diabetic_Retinopathy/plots\""
   ]
  },
  {
   "cell_type": "code",
   "execution_count": 28,
   "metadata": {},
   "outputs": [
    {
     "data": {
      "image/png": "[encoded data removed]",
      "text/plain": [
       "<Figure size 432x288 with 1 Axes>"
      ]
     },
     "metadata": {
      "needs_background": "light"
     },
     "output_type": "display_data"
    }
   ],
   "source": [
    "plt.plot(df.epoch,df.t_acc,'r',label=\"Training Accuracy\")\n",
    "plt.plot(df.epoch,df.t_kappa,'b',label=\"Training Kappa\")\n",
    "plt.plot(df.epoch,df.t_loss,'g',label=\"Training Loss\")\n",
    "plt.xlabel(\"Epochs\")\n",
    "plt.legend()\n",
    "plt.savefig(os.path.join(plots,\"dr_densenet121_pretrained_e{}_{}\".format(15,'train')))"
   ]
  },
  {
   "cell_type": "code",
   "execution_count": 29,
   "metadata": {},
   "outputs": [
    {
     "data": {
      "image/png": "[encoded data removed]",
      "text/plain": [
       "<Figure size 432x288 with 1 Axes>"
      ]
     },
     "metadata": {
      "needs_background": "light"
     },
     "output_type": "display_data"
    }
   ],
   "source": [
    "plt.plot(df.epoch,df.v_acc,'r',label=\"Val Accuracy\")\n",
    "plt.plot(df.epoch,df.v_kappa,'b',label=\"Val Kappa\")\n",
    "plt.plot(df.epoch,df.v_loss,'g',label=\"Val Loss\")\n",
    "plt.xlabel(\"Epochs\")\n",
    "plt.legend()\n",
    "plt.savefig(os.path.join(plots,\"dr_densenet121_pretrained_e{}_{}\".format(15,'Val')))"
   ]
  },
  {
   "cell_type": "code",
   "execution_count": 30,
   "metadata": {},
   "outputs": [],
   "source": [
    "Final_Kappa = cohen_kappa_score(predictions, ground_truth)"
   ]
  },
  {
   "cell_type": "code",
   "execution_count": 31,
   "metadata": {
    "scrolled": true
   },
   "outputs": [
    {
     "name": "stdout",
     "output_type": "stream",
     "text": [
      "0.6379310344827587\n"
     ]
    }
   ],
   "source": [
    "print(Final_Kappa)"
   ]
  },
  {
   "cell_type": "code",
   "execution_count": null,
   "metadata": {},
   "outputs": [],
   "source": []
  }
 ],
 "metadata": {
  "kernelspec": {
   "display_name": "Python 3",
   "language": "python",
   "name": "python3"
  },
  "language_info": {
   "codemirror_mode": {
    "name": "ipython",
    "version": 3
   },
   "file_extension": ".py",
   "mimetype": "text/x-python",
   "name": "python",
   "nbconvert_exporter": "python",
   "pygments_lexer": "ipython3",
   "version": "3.8.10"
  }
 },
 "nbformat": 4,
 "nbformat_minor": 4
}
