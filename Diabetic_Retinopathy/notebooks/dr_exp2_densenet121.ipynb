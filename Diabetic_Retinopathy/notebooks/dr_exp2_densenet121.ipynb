{
 "cells": [
  {
   "cell_type": "code",
   "execution_count": 1,
   "metadata": {},
   "outputs": [],
   "source": [
    "path = \"/home/hexart/dataset/aptos2019-blindness-detection/\""
   ]
  },
  {
   "cell_type": "code",
   "execution_count": 2,
   "metadata": {},
   "outputs": [],
   "source": [
    "import pandas as pd\n",
    "import numpy as np\n",
    "import os"
   ]
  },
  {
   "cell_type": "code",
   "execution_count": 3,
   "metadata": {},
   "outputs": [],
   "source": [
    "df = pd.read_csv(os.path.join(path,\"train.csv\"))"
   ]
  },
  {
   "cell_type": "code",
   "execution_count": 4,
   "metadata": {},
   "outputs": [
    {
     "data": {
      "text/html": [
       "<div>\n",
       "<style scoped>\n",
       "    .dataframe tbody tr th:only-of-type {\n",
       "        vertical-align: middle;\n",
       "    }\n",
       "\n",
       "    .dataframe tbody tr th {\n",
       "        vertical-align: top;\n",
       "    }\n",
       "\n",
       "    .dataframe thead th {\n",
       "        text-align: right;\n",
       "    }\n",
       "</style>\n",
       "<table border=\"1\" class=\"dataframe\">\n",
       "  <thead>\n",
       "    <tr style=\"text-align: right;\">\n",
       "      <th></th>\n",
       "      <th>id_code</th>\n",
       "      <th>diagnosis</th>\n",
       "    </tr>\n",
       "  </thead>\n",
       "  <tbody>\n",
       "    <tr>\n",
       "      <th>0</th>\n",
       "      <td>000c1434d8d7</td>\n",
       "      <td>2</td>\n",
       "    </tr>\n",
       "    <tr>\n",
       "      <th>1</th>\n",
       "      <td>001639a390f0</td>\n",
       "      <td>4</td>\n",
       "    </tr>\n",
       "    <tr>\n",
       "      <th>2</th>\n",
       "      <td>0024cdab0c1e</td>\n",
       "      <td>1</td>\n",
       "    </tr>\n",
       "    <tr>\n",
       "      <th>3</th>\n",
       "      <td>002c21358ce6</td>\n",
       "      <td>0</td>\n",
       "    </tr>\n",
       "    <tr>\n",
       "      <th>4</th>\n",
       "      <td>005b95c28852</td>\n",
       "      <td>0</td>\n",
       "    </tr>\n",
       "  </tbody>\n",
       "</table>\n",
       "</div>"
      ],
      "text/plain": [
       "        id_code  diagnosis\n",
       "0  000c1434d8d7          2\n",
       "1  001639a390f0          4\n",
       "2  0024cdab0c1e          1\n",
       "3  002c21358ce6          0\n",
       "4  005b95c28852          0"
      ]
     },
     "execution_count": 4,
     "metadata": {},
     "output_type": "execute_result"
    }
   ],
   "source": [
    "df.head()"
   ]
  },
  {
   "cell_type": "code",
   "execution_count": 5,
   "metadata": {},
   "outputs": [
    {
     "data": {
      "text/plain": [
       "0    1805\n",
       "2     999\n",
       "1     370\n",
       "4     295\n",
       "3     193\n",
       "Name: diagnosis, dtype: int64"
      ]
     },
     "execution_count": 5,
     "metadata": {},
     "output_type": "execute_result"
    }
   ],
   "source": [
    "df.diagnosis.value_counts()"
   ]
  },
  {
   "cell_type": "code",
   "execution_count": 6,
   "metadata": {},
   "outputs": [],
   "source": [
    "def get_sample(dataset:str) -> np.ndarray:\n",
    "    \"\"\"\n",
    "    This function will sample unbalanced dr_dataset into a balanced dr_dataset\n",
    "    ***FOR DIABETIC RETINPATHY ONLY***\n",
    "    :param dataset: csv file of the dr_dataset\n",
    "    :return: numpy array containing shuffled balanced data samples\n",
    "    \"\"\"\n",
    "\n",
    "    df_data = pd.read_csv(dataset)\n",
    "    df_data_classes = dict.fromkeys(pd.unique(df_data.diagnosis))\n",
    "    for i in pd.unique(df_data.diagnosis):\n",
    "        df_data_classes[i] = df_data[df_data.diagnosis == i]\n",
    "\n",
    "\n",
    "    n = np.min((df_data_classes[0].shape[0],\n",
    "                df_data_classes[1].shape[0],\n",
    "                df_data_classes[2].shape[0],\n",
    "                df_data_classes[3].shape[0],\n",
    "                df_data_classes[4].shape[0],))\n",
    "\n",
    "    n = int(n - (n//4))\n",
    "\n",
    "    rng = np.random.default_rng()\n",
    "    train_samples = np.concatenate((rng.permutation(df_data_classes[0])[:n],\n",
    "                                   rng.permutation(df_data_classes[1])[:n],\n",
    "                                   rng.permutation(df_data_classes[2])[:n],\n",
    "                                   rng.permutation(df_data_classes[3])[:n],\n",
    "                                   rng.permutation(df_data_classes[4])[:n],))\n",
    "\n",
    "    random_training_samples = rng.permutation(train_samples)\n",
    "\n",
    "    return random_training_samples"
   ]
  },
  {
   "cell_type": "code",
   "execution_count": 7,
   "metadata": {},
   "outputs": [],
   "source": [
    "data = get_sample(os.path.join(path,\"train.csv\"))"
   ]
  },
  {
   "cell_type": "code",
   "execution_count": 8,
   "metadata": {},
   "outputs": [
    {
     "data": {
      "text/plain": [
       "145.0"
      ]
     },
     "execution_count": 8,
     "metadata": {},
     "output_type": "execute_result"
    }
   ],
   "source": [
    "data.shape[0]/5"
   ]
  },
  {
   "cell_type": "code",
   "execution_count": 9,
   "metadata": {},
   "outputs": [],
   "source": [
    "training_set = data[:int(len(data)*0.8)]\n",
    "testing_set = data[int(len(data) * 0.8):]"
   ]
  },
  {
   "cell_type": "code",
   "execution_count": 10,
   "metadata": {},
   "outputs": [],
   "source": [
    "import torch"
   ]
  },
  {
   "cell_type": "code",
   "execution_count": 11,
   "metadata": {},
   "outputs": [
    {
     "data": {
      "text/plain": [
       "True"
      ]
     },
     "execution_count": 11,
     "metadata": {},
     "output_type": "execute_result"
    }
   ],
   "source": [
    "torch.cuda.is_available()"
   ]
  },
  {
   "cell_type": "code",
   "execution_count": 12,
   "metadata": {},
   "outputs": [],
   "source": [
    "image_dataset = dict.fromkeys(['train','val'])"
   ]
  },
  {
   "cell_type": "code",
   "execution_count": 13,
   "metadata": {},
   "outputs": [],
   "source": [
    "from torch.utils.data import Dataset\n",
    "from PIL import Image\n",
    "from torchvision import transforms\n",
    "\n",
    "class dr_dataset(Dataset):\n",
    "\n",
    "    def __init__(self, numpy_array, data_dir, transform=None, target_transform=None, ext=\".png\"):\n",
    "        self.img_labels = pd.DataFrame(numpy_array)\n",
    "        self.data_dir = data_dir\n",
    "        self.transform = transform\n",
    "        self.target_transform = target_transform\n",
    "        self.ext = ext\n",
    "\n",
    "\n",
    "\n",
    "    def __len__(self):\n",
    "        return len(self.img_labels)\n",
    "\n",
    "    def __getitem__(self, item):\n",
    "        img_path = os.path.join(self.data_dir,self.img_labels.iloc[item,0]+self.ext)\n",
    "        img = Image.open(img_path)\n",
    "        label = self.img_labels.iloc[item,1]\n",
    "        if self.transform:\n",
    "            img = self.transform(img)\n",
    "        else:\n",
    "            self.transform = transforms.Compose([\n",
    "                transforms.Resize(255),\n",
    "                transforms.CenterCrop(224),\n",
    "                transforms.ToTensor(),\n",
    "                transforms.Normalize([0.485, 0.456, 0.406],\n",
    "                                     [0.229, 0.224, 0.225]),\n",
    "            ])\n",
    "            img = self.transform(img)\n",
    "        if self.target_transform:\n",
    "            label = self.target_transform(label)\n",
    "\n",
    "        return (img, label,)"
   ]
  },
  {
   "cell_type": "code",
   "execution_count": 14,
   "metadata": {},
   "outputs": [],
   "source": [
    "data_transforms = {\n",
    "    'train': transforms.Compose([\n",
    "        transforms.RandomResizedCrop(224),\n",
    "        transforms.RandomHorizontalFlip(),\n",
    "        transforms.ToTensor(),\n",
    "        transforms.Normalize([0.485, 0.456, 0.406], [0.229, 0.224, 0.225])\n",
    "    ]),\n",
    "    'val': transforms.Compose([\n",
    "        transforms.Resize(256),\n",
    "        transforms.CenterCrop(224),\n",
    "        transforms.ToTensor(),\n",
    "        transforms.Normalize([0.485, 0.456, 0.406], [0.229, 0.224, 0.225])\n",
    "    ])\n",
    "}"
   ]
  },
  {
   "cell_type": "code",
   "execution_count": 15,
   "metadata": {},
   "outputs": [],
   "source": [
    "image_dataset['train'] = dr_dataset(numpy_array=training_set,\n",
    "                                     data_dir=os.path.join(path,'train_images'),\n",
    "                                     transform = data_transforms['train'])\n",
    "image_dataset['val'] = dr_dataset(numpy_array=testing_set,\n",
    "                                     data_dir=os.path.join(path,'train_images'),\n",
    "                                     transform = data_transforms['val'])"
   ]
  },
  {
   "cell_type": "code",
   "execution_count": 16,
   "metadata": {},
   "outputs": [],
   "source": [
    "from torch.utils.data import DataLoader\n",
    "\n",
    "dataloaders = {x: torch.utils.data.DataLoader(image_dataset[x],\n",
    "                                              batch_size=12,\n",
    "                                              shuffle=True,\n",
    "                                              num_workers=2)\n",
    "               for x in ['train','val']}"
   ]
  },
  {
   "cell_type": "code",
   "execution_count": 17,
   "metadata": {},
   "outputs": [],
   "source": [
    "dataset_sizes = {x: len(image_dataset[x]) for x in ['train', 'val']}\n",
    "\n",
    "\n",
    "class_names = {\n",
    "    0 : \"No DR\",\n",
    "    1 : \"NPDR Mild\",\n",
    "    2 : \"NPDR Moderate\",\n",
    "    3 : \"NPDR Severe\",\n",
    "    4 : \"PDR\"\n",
    "}\n"
   ]
  },
  {
   "cell_type": "code",
   "execution_count": 18,
   "metadata": {},
   "outputs": [],
   "source": [
    "device = torch.device(\"cuda:0\" if torch.cuda.is_available() else 'cpu')"
   ]
  },
  {
   "cell_type": "code",
   "execution_count": 19,
   "metadata": {},
   "outputs": [],
   "source": [
    "import torch.nn as nn\n",
    "import torch.optim as optim\n",
    "from torch.optim import lr_scheduler\n",
    "from torchvision import models\n",
    "import time\n",
    "from sklearn.metrics import cohen_kappa_score\n",
    "\n",
    "\n",
    "\n",
    "def train_model(model, criterion, optimizer, scheduler, num_epochs=25):\n",
    "    since = time.time()\n",
    "    metrics = []\n",
    "    for epoch in range(num_epochs):\n",
    "        print('\\nEpoch {}/{}'.format(epoch, num_epochs - 1))\n",
    "        print('-' * 10)\n",
    "        \n",
    "        predictions = []\n",
    "        ground_truth = []\n",
    "\n",
    "        for phase in ['train', 'val']:\n",
    "\n",
    "            if phase == 'train':\n",
    "                model.train()\n",
    "            else:\n",
    "                model.eval()\n",
    "\n",
    "            running_loss = 0.0\n",
    "            running_corrects = 0.0\n",
    "\n",
    "            for inputs, labels in dataloaders[phase]:\n",
    "                inputs = inputs.to(device)\n",
    "                labels = labels.to(device)\n",
    "\n",
    "                optimizer.zero_grad()\n",
    "\n",
    "                with torch.set_grad_enabled(phase == 'train'):\n",
    "                    outputs = model(inputs)\n",
    "                    _, preds = torch.max(outputs, 1)\n",
    "                    loss = criterion(outputs, labels)\n",
    "\n",
    "                    if phase == 'train':\n",
    "                        loss.backward()\n",
    "                        optimizer.step()\n",
    "\n",
    "                running_loss += loss.item() * inputs.size(0)\n",
    "                running_corrects += torch.sum(preds == labels)\n",
    "                predictions.extend(preds.cpu().detach().numpy())\n",
    "                ground_truth.extend(labels.cpu().detach().numpy())\n",
    "\n",
    "            if phase == 'train':\n",
    "                scheduler.step()\n",
    "                \n",
    "            epoch_loss = running_loss / dataset_sizes[phase]\n",
    "            epoch_acc = running_corrects.double() / dataset_sizes[phase]\n",
    "            epoch_kappa = cohen_kappa_score(predictions, ground_truth)\n",
    "            print('{} Loss:\\t{:.4f}\\tAcc:\\t{:.4f}\\tKappa:\\t{:.4f}'.format(phase, epoch_loss, epoch_acc, epoch_kappa))\n",
    "            metrics.append([epoch,\n",
    "                            phase,\n",
    "                            epoch_loss,\n",
    "                            epoch_acc.cpu().detach().numpy(),\n",
    "                            epoch_kappa])\n",
    "\n",
    "    time_elapsed = time.time() - since\n",
    "    print(\"Training Completed in {:.0f}m {:.0f}s\".format(time_elapsed // 60, time_elapsed % 60))\n",
    "\n",
    "    return (model,metrics,predictions, ground_truth)"
   ]
  },
  {
   "cell_type": "code",
   "execution_count": 20,
   "metadata": {},
   "outputs": [],
   "source": [
    "#model_ft = models.resnet152(pretrained=True)\n",
    "#num_ftrs = model_ft.fc.in_features\n",
    "model_ft = models.densenet121(pretrained=True)\n",
    "num_ftrs = model_ft.classifier.in_features\n",
    "model_ft.classifier = nn.Linear(num_ftrs, 5)\n",
    "model_ft = model_ft.to(device)\n",
    "criterion = nn.CrossEntropyLoss()\n",
    "optimizer_ft = optim.SGD(model_ft.parameters(), lr=0.001, momentum = 0.9)\n",
    "exp_lr_scheduler = lr_scheduler.StepLR(optimizer_ft, step_size = 7, gamma=0.1)"
   ]
  },
  {
   "cell_type": "code",
   "execution_count": 21,
   "metadata": {},
   "outputs": [
    {
     "name": "stdout",
     "output_type": "stream",
     "text": [
      "\n",
      "Epoch 0/24\n",
      "----------\n",
      "train Loss:\t1.4979\tAcc:\t0.3293\tKappa:\t0.1606\n",
      "val Loss:\t1.3018\tAcc:\t0.4552\tKappa:\t0.1931\n",
      "\n",
      "Epoch 1/24\n",
      "----------\n",
      "train Loss:\t1.2553\tAcc:\t0.4552\tKappa:\t0.3187\n",
      "val Loss:\t1.0692\tAcc:\t0.5448\tKappa:\t0.3414\n",
      "\n",
      "Epoch 2/24\n",
      "----------\n",
      "train Loss:\t1.1036\tAcc:\t0.5431\tKappa:\t0.4286\n",
      "val Loss:\t1.0957\tAcc:\t0.5931\tKappa:\t0.4414\n",
      "\n",
      "Epoch 3/24\n",
      "----------\n",
      "train Loss:\t1.0597\tAcc:\t0.5810\tKappa:\t0.4763\n",
      "val Loss:\t1.1841\tAcc:\t0.5379\tKappa:\t0.4655\n",
      "\n",
      "Epoch 4/24\n",
      "----------\n",
      "train Loss:\t1.0033\tAcc:\t0.6000\tKappa:\t0.4995\n",
      "val Loss:\t0.9298\tAcc:\t0.6138\tKappa:\t0.5034\n",
      "\n",
      "Epoch 5/24\n",
      "----------\n",
      "train Loss:\t0.9331\tAcc:\t0.6207\tKappa:\t0.5256\n",
      "val Loss:\t0.9692\tAcc:\t0.6069\tKappa:\t0.5224\n",
      "\n",
      "Epoch 6/24\n",
      "----------\n",
      "train Loss:\t0.9126\tAcc:\t0.6345\tKappa:\t0.5432\n",
      "val Loss:\t1.0158\tAcc:\t0.5655\tKappa:\t0.5259\n",
      "\n",
      "Epoch 7/24\n",
      "----------\n",
      "train Loss:\t0.8324\tAcc:\t0.6879\tKappa:\t0.6096\n",
      "val Loss:\t0.9573\tAcc:\t0.5862\tKappa:\t0.5845\n",
      "\n",
      "Epoch 8/24\n",
      "----------\n",
      "train Loss:\t0.7727\tAcc:\t0.7069\tKappa:\t0.6332\n",
      "val Loss:\t0.9563\tAcc:\t0.6138\tKappa:\t0.6103\n",
      "\n",
      "Epoch 9/24\n",
      "----------\n",
      "train Loss:\t0.7727\tAcc:\t0.6948\tKappa:\t0.6184\n",
      "val Loss:\t0.9544\tAcc:\t0.6345\tKappa:\t0.6034\n",
      "\n",
      "Epoch 10/24\n",
      "----------\n",
      "train Loss:\t0.7454\tAcc:\t0.7155\tKappa:\t0.6443\n",
      "val Loss:\t0.9484\tAcc:\t0.6138\tKappa:\t0.6190\n",
      "\n",
      "Epoch 11/24\n",
      "----------\n",
      "train Loss:\t0.7929\tAcc:\t0.6983\tKappa:\t0.6225\n",
      "val Loss:\t0.9431\tAcc:\t0.6345\tKappa:\t0.6069\n",
      "\n",
      "Epoch 12/24\n",
      "----------\n",
      "train Loss:\t0.7646\tAcc:\t0.7086\tKappa:\t0.6355\n",
      "val Loss:\t0.9211\tAcc:\t0.6207\tKappa:\t0.6138\n",
      "\n",
      "Epoch 13/24\n",
      "----------\n",
      "train Loss:\t0.7057\tAcc:\t0.7155\tKappa:\t0.6444\n",
      "val Loss:\t0.9019\tAcc:\t0.6483\tKappa:\t0.6276\n",
      "\n",
      "Epoch 14/24\n",
      "----------\n",
      "train Loss:\t0.6924\tAcc:\t0.7448\tKappa:\t0.6806\n",
      "val Loss:\t0.9098\tAcc:\t0.6414\tKappa:\t0.6552\n",
      "\n",
      "Epoch 15/24\n",
      "----------\n",
      "train Loss:\t0.7039\tAcc:\t0.7172\tKappa:\t0.6462\n",
      "val Loss:\t0.9284\tAcc:\t0.6207\tKappa:\t0.6224\n",
      "\n",
      "Epoch 16/24\n",
      "----------\n",
      "train Loss:\t0.7017\tAcc:\t0.7431\tKappa:\t0.6786\n",
      "val Loss:\t0.8948\tAcc:\t0.6552\tKappa:\t0.6569\n",
      "\n",
      "Epoch 17/24\n",
      "----------\n",
      "train Loss:\t0.7385\tAcc:\t0.7069\tKappa:\t0.6334\n",
      "val Loss:\t0.9098\tAcc:\t0.6276\tKappa:\t0.6138\n",
      "\n",
      "Epoch 18/24\n",
      "----------\n",
      "train Loss:\t0.7109\tAcc:\t0.6948\tKappa:\t0.6182\n",
      "val Loss:\t0.9001\tAcc:\t0.6276\tKappa:\t0.6017\n",
      "\n",
      "Epoch 19/24\n",
      "----------\n",
      "train Loss:\t0.6843\tAcc:\t0.7362\tKappa:\t0.6701\n",
      "val Loss:\t0.9316\tAcc:\t0.6069\tKappa:\t0.6379\n",
      "\n",
      "Epoch 20/24\n",
      "----------\n",
      "train Loss:\t0.7331\tAcc:\t0.7362\tKappa:\t0.6699\n",
      "val Loss:\t0.9302\tAcc:\t0.6483\tKappa:\t0.6483\n",
      "\n",
      "Epoch 21/24\n",
      "----------\n",
      "train Loss:\t0.7438\tAcc:\t0.7241\tKappa:\t0.6549\n",
      "val Loss:\t0.9049\tAcc:\t0.6207\tKappa:\t0.6293\n",
      "\n",
      "Epoch 22/24\n",
      "----------\n",
      "train Loss:\t0.6904\tAcc:\t0.7310\tKappa:\t0.6634\n",
      "val Loss:\t0.8892\tAcc:\t0.6207\tKappa:\t0.6362\n",
      "\n",
      "Epoch 23/24\n",
      "----------\n",
      "train Loss:\t0.6917\tAcc:\t0.7414\tKappa:\t0.6766\n",
      "val Loss:\t0.9136\tAcc:\t0.6138\tKappa:\t0.6448\n",
      "\n",
      "Epoch 24/24\n",
      "----------\n",
      "train Loss:\t0.7443\tAcc:\t0.7069\tKappa:\t0.6333\n",
      "val Loss:\t0.9404\tAcc:\t0.6069\tKappa:\t0.6086\n",
      "Training Completed in 13m 37s\n"
     ]
    }
   ],
   "source": [
    "model, metrics, predictions, ground_truth = train_model(model_ft,criterion,\n",
    "                                                        optimizer_ft,\n",
    "                                                        exp_lr_scheduler,\n",
    "                                                        num_epochs=25)"
   ]
  },
  {
   "cell_type": "code",
   "execution_count": 22,
   "metadata": {},
   "outputs": [],
   "source": [
    "import matplotlib.pyplot as plt"
   ]
  },
  {
   "cell_type": "code",
   "execution_count": 23,
   "metadata": {},
   "outputs": [],
   "source": [
    "df = pd.DataFrame(metrics)"
   ]
  },
  {
   "cell_type": "code",
   "execution_count": 24,
   "metadata": {},
   "outputs": [],
   "source": [
    "train_metrics = df[df[1] == 'train']\n",
    "val_metrics = df[df[1] == 'val']\n",
    "plots = \"/home/hexart/hexart/Hexart_Research_Cohort_2/Diabetic_Retinopathy/plots\""
   ]
  },
  {
   "cell_type": "code",
   "execution_count": 25,
   "metadata": {},
   "outputs": [
    {
     "data": {
      "image/png": "[encoded data removed]",
      "text/plain": [
       "<Figure size 432x288 with 1 Axes>"
      ]
     },
     "metadata": {
      "needs_background": "light"
     },
     "output_type": "display_data"
    }
   ],
   "source": [
    "plt.plot(train_metrics[0],train_metrics[3],'r',label=\"Training Accuracy\")\n",
    "plt.plot(train_metrics[0],train_metrics[4],'b',label=\"Training Kappa\")\n",
    "plt.plot(train_metrics[0],train_metrics[2],'g',label=\"Training Loss\")\n",
    "plt.xlabel(\"Epochs\")\n",
    "plt.legend()\n",
    "plt.savefig(os.path.join(plots,\"dr_densenet121_pretrained_e{}_{}\".format(25,'train')))"
   ]
  },
  {
   "cell_type": "code",
   "execution_count": 26,
   "metadata": {},
   "outputs": [
    {
     "data": {
      "image/png": "[encoded data removed]",
      "text/plain": [
       "<Figure size 432x288 with 1 Axes>"
      ]
     },
     "metadata": {
      "needs_background": "light"
     },
     "output_type": "display_data"
    }
   ],
   "source": [
    "plt.plot(val_metrics[0],val_metrics[3],'r',label=\"Validation Accuracy\")\n",
    "plt.plot(val_metrics[0],val_metrics[4],'b',label=\"Validation Kappa\")\n",
    "plt.plot(val_metrics[0],val_metrics[2],'g',label=\"Validation Loss\")\n",
    "plt.xlabel(\"Epochs\")\n",
    "plt.legend()\n",
    "plt.savefig(os.path.join(plots,\"dr_densenet121_pretrained_e{}_{}\".format(25,'val')))"
   ]
  },
  {
   "cell_type": "code",
   "execution_count": 27,
   "metadata": {},
   "outputs": [],
   "source": [
    "# Untrained Resnet152\n",
    "#un_model_ft = models.resnet152(pretrained=False)\n",
    "#num_ftrs = un_model_ft.fc.in_features\n",
    "#model_ft.fc = nn.Linear(num_ftrs, 5)\n",
    "un_model_ft = models.densenet121(pretrained=True)\n",
    "num_ftrs = un_model_ft.classifier.in_features\n",
    "un_model_ft.classifier = nn.Linear(num_ftrs, 5)\n",
    "un_model_ft = un_model_ft.to(device)\n",
    "criterion = nn.CrossEntropyLoss()\n",
    "optimizer_ft = optim.SGD(un_model_ft.parameters(), lr=0.001, momentum = 0.9)\n",
    "exp_lr_scheduler = lr_scheduler.StepLR(optimizer_ft, step_size = 7, gamma=0.1)"
   ]
  },
  {
   "cell_type": "code",
   "execution_count": 28,
   "metadata": {},
   "outputs": [
    {
     "name": "stdout",
     "output_type": "stream",
     "text": [
      "\n",
      "Epoch 0/24\n",
      "----------\n",
      "train Loss:\t1.5173\tAcc:\t0.2948\tKappa:\t0.1180\n",
      "val Loss:\t1.2206\tAcc:\t0.4966\tKappa:\t0.1690\n",
      "\n",
      "Epoch 1/24\n",
      "----------\n",
      "train Loss:\t1.2025\tAcc:\t0.5172\tKappa:\t0.3965\n",
      "val Loss:\t1.0285\tAcc:\t0.5241\tKappa:\t0.3983\n",
      "\n",
      "Epoch 2/24\n",
      "----------\n",
      "train Loss:\t1.1939\tAcc:\t0.5052\tKappa:\t0.3807\n",
      "val Loss:\t1.1272\tAcc:\t0.5241\tKappa:\t0.3862\n",
      "\n",
      "Epoch 3/24\n",
      "----------\n",
      "train Loss:\t1.1565\tAcc:\t0.5224\tKappa:\t0.4024\n",
      "val Loss:\t1.0671\tAcc:\t0.5241\tKappa:\t0.4034\n",
      "\n",
      "Epoch 4/24\n",
      "----------\n",
      "train Loss:\t1.0178\tAcc:\t0.5724\tKappa:\t0.4652\n",
      "val Loss:\t0.9645\tAcc:\t0.6138\tKappa:\t0.4759\n",
      "\n",
      "Epoch 5/24\n",
      "----------\n",
      "train Loss:\t0.9672\tAcc:\t0.5948\tKappa:\t0.4927\n",
      "val Loss:\t0.9341\tAcc:\t0.6069\tKappa:\t0.4966\n",
      "\n",
      "Epoch 6/24\n",
      "----------\n",
      "train Loss:\t0.9574\tAcc:\t0.6138\tKappa:\t0.5173\n",
      "val Loss:\t1.1498\tAcc:\t0.5655\tKappa:\t0.5052\n",
      "\n",
      "Epoch 7/24\n",
      "----------\n",
      "train Loss:\t0.9238\tAcc:\t0.6138\tKappa:\t0.5158\n",
      "val Loss:\t0.9350\tAcc:\t0.6069\tKappa:\t0.5155\n",
      "\n",
      "Epoch 8/24\n",
      "----------\n",
      "train Loss:\t0.8062\tAcc:\t0.6793\tKappa:\t0.5990\n",
      "val Loss:\t0.9469\tAcc:\t0.6000\tKappa:\t0.5793\n",
      "\n",
      "Epoch 9/24\n",
      "----------\n",
      "train Loss:\t0.7761\tAcc:\t0.7034\tKappa:\t0.6287\n",
      "val Loss:\t0.9032\tAcc:\t0.6414\tKappa:\t0.6138\n",
      "\n",
      "Epoch 10/24\n",
      "----------\n",
      "train Loss:\t0.7927\tAcc:\t0.6862\tKappa:\t0.6075\n",
      "val Loss:\t0.9120\tAcc:\t0.6207\tKappa:\t0.5914\n",
      "\n",
      "Epoch 11/24\n",
      "----------\n",
      "train Loss:\t0.7510\tAcc:\t0.7328\tKappa:\t0.6655\n",
      "val Loss:\t0.8994\tAcc:\t0.6483\tKappa:\t0.6448\n",
      "\n",
      "Epoch 12/24\n",
      "----------\n",
      "train Loss:\t0.7581\tAcc:\t0.7121\tKappa:\t0.6398\n",
      "val Loss:\t0.8782\tAcc:\t0.6345\tKappa:\t0.6207\n",
      "\n",
      "Epoch 13/24\n",
      "----------\n",
      "train Loss:\t0.7695\tAcc:\t0.6931\tKappa:\t0.6162\n",
      "val Loss:\t0.9048\tAcc:\t0.6207\tKappa:\t0.5983\n",
      "\n",
      "Epoch 14/24\n",
      "----------\n",
      "train Loss:\t0.7748\tAcc:\t0.6793\tKappa:\t0.5985\n",
      "val Loss:\t0.9381\tAcc:\t0.6138\tKappa:\t0.5828\n",
      "\n",
      "Epoch 15/24\n",
      "----------\n",
      "train Loss:\t0.7439\tAcc:\t0.7241\tKappa:\t0.6548\n",
      "val Loss:\t0.9115\tAcc:\t0.6207\tKappa:\t0.6293\n",
      "\n",
      "Epoch 16/24\n",
      "----------\n",
      "train Loss:\t0.7414\tAcc:\t0.7259\tKappa:\t0.6568\n",
      "val Loss:\t0.9179\tAcc:\t0.6345\tKappa:\t0.6345\n",
      "\n",
      "Epoch 17/24\n",
      "----------\n",
      "train Loss:\t0.7060\tAcc:\t0.7224\tKappa:\t0.6526\n",
      "val Loss:\t0.9197\tAcc:\t0.6138\tKappa:\t0.6259\n",
      "\n",
      "Epoch 18/24\n",
      "----------\n",
      "train Loss:\t0.7701\tAcc:\t0.7034\tKappa:\t0.6288\n",
      "val Loss:\t0.9361\tAcc:\t0.6276\tKappa:\t0.6103\n",
      "\n",
      "Epoch 19/24\n",
      "----------\n",
      "train Loss:\t0.7231\tAcc:\t0.7397\tKappa:\t0.6743\n",
      "val Loss:\t0.9016\tAcc:\t0.6207\tKappa:\t0.6448\n",
      "\n",
      "Epoch 20/24\n",
      "----------\n",
      "train Loss:\t0.7391\tAcc:\t0.7259\tKappa:\t0.6570\n",
      "val Loss:\t0.9132\tAcc:\t0.6207\tKappa:\t0.6310\n",
      "\n",
      "Epoch 21/24\n",
      "----------\n",
      "train Loss:\t0.7547\tAcc:\t0.7069\tKappa:\t0.6331\n",
      "val Loss:\t0.8989\tAcc:\t0.6414\tKappa:\t0.6172\n",
      "\n",
      "Epoch 22/24\n",
      "----------\n",
      "train Loss:\t0.7558\tAcc:\t0.6983\tKappa:\t0.6225\n",
      "val Loss:\t0.8987\tAcc:\t0.6552\tKappa:\t0.6121\n",
      "\n",
      "Epoch 23/24\n",
      "----------\n",
      "train Loss:\t0.7811\tAcc:\t0.6845\tKappa:\t0.6051\n",
      "val Loss:\t0.9040\tAcc:\t0.6345\tKappa:\t0.5931\n",
      "\n",
      "Epoch 24/24\n",
      "----------\n",
      "train Loss:\t0.7098\tAcc:\t0.7172\tKappa:\t0.6463\n",
      "val Loss:\t0.9121\tAcc:\t0.6414\tKappa:\t0.6276\n",
      "Training Completed in 13m 36s\n"
     ]
    }
   ],
   "source": [
    "un_model, un_metrics, un_predictions, un_ground_truth = train_model(un_model_ft,criterion,\n",
    "                                                        optimizer_ft,\n",
    "                                                        exp_lr_scheduler,\n",
    "                                                        num_epochs=25)"
   ]
  },
  {
   "cell_type": "code",
   "execution_count": 29,
   "metadata": {},
   "outputs": [],
   "source": [
    "un_df = pd.DataFrame(un_metrics)"
   ]
  },
  {
   "cell_type": "code",
   "execution_count": 30,
   "metadata": {},
   "outputs": [],
   "source": [
    "un_train_metrics = un_df[un_df[1] == 'train']\n",
    "un_val_metrics = un_df[un_df[1] == 'val']\n",
    "plots = \"/home/hexart/hexart/Hexart_Research_Cohort_2/Diabetic_Retinopathy/plots\""
   ]
  },
  {
   "cell_type": "code",
   "execution_count": 31,
   "metadata": {},
   "outputs": [
    {
     "data": {
      "image/png": "[encoded data removed]",
      "text/plain": [
       "<Figure size 432x288 with 1 Axes>"
      ]
     },
     "metadata": {
      "needs_background": "light"
     },
     "output_type": "display_data"
    }
   ],
   "source": [
    "plt.plot(un_train_metrics[0],un_train_metrics[3],'r',label=\"Training Accuracy\")\n",
    "plt.plot(un_train_metrics[0],un_train_metrics[4],'b',label=\"Training Kappa\")\n",
    "plt.plot(un_train_metrics[0],un_train_metrics[2],'g',label=\"Training Loss\")\n",
    "plt.xlabel(\"Epochs\")\n",
    "plt.legend()\n",
    "plt.savefig(os.path.join(plots,\"dr_densenet121_untrained_e{}_{}\".format(25,'train')))"
   ]
  },
  {
   "cell_type": "code",
   "execution_count": 32,
   "metadata": {},
   "outputs": [
    {
     "data": {
      "image/png": "[encoded data removed]",
      "text/plain": [
       "<Figure size 432x288 with 1 Axes>"
      ]
     },
     "metadata": {
      "needs_background": "light"
     },
     "output_type": "display_data"
    }
   ],
   "source": [
    "plt.plot(un_val_metrics[0],un_val_metrics[3],'r',label=\"Validation Accuracy\")\n",
    "plt.plot(un_val_metrics[0],un_val_metrics[4],'b',label=\"Validation Kappa\")\n",
    "plt.plot(un_val_metrics[0],un_val_metrics[2],'g',label=\"Validation Loss\")\n",
    "plt.xlabel(\"Epochs\")\n",
    "plt.legend()\n",
    "plt.savefig(os.path.join(plots,\"dr_densenet121_untrained_e{}_{}\".format(25,'val')))"
   ]
  },
  {
   "cell_type": "code",
   "execution_count": 33,
   "metadata": {},
   "outputs": [
    {
     "data": {
      "image/png": "[encoded data removed]",
      "text/plain": [
       "<Figure size 432x288 with 1 Axes>"
      ]
     },
     "metadata": {
      "needs_background": "light"
     },
     "output_type": "display_data"
    }
   ],
   "source": [
    "plt.plot(train_metrics[0],train_metrics[3],'r',label=\"Pretrained Training Accuracy\")\n",
    "plt.plot(train_metrics[0],un_train_metrics[3],'b',label=\"Untrained Training Accuracy\")\n",
    "plt.xlabel(\"Epochs\")\n",
    "plt.legend()\n",
    "plt.savefig(os.path.join(plots,\"dr_densenet121_accuracy_e{}_{}\".format(25,'train')))"
   ]
  },
  {
   "cell_type": "code",
   "execution_count": 34,
   "metadata": {},
   "outputs": [
    {
     "data": {
      "image/png": "[encoded data removed]",
      "text/plain": [
       "<Figure size 432x288 with 1 Axes>"
      ]
     },
     "metadata": {
      "needs_background": "light"
     },
     "output_type": "display_data"
    }
   ],
   "source": [
    "plt.plot(val_metrics[0],val_metrics[3],'r',label=\"Pretrained Val Accuracy\")\n",
    "plt.plot(val_metrics[0],un_val_metrics[3],'b',label=\"Untrained Val Accuracy\")\n",
    "plt.xlabel(\"Epochs\")\n",
    "plt.legend()\n",
    "plt.savefig(os.path.join(plots,\"dr_densenet121_accuracy_e{}_{}\".format(25,'val')))"
   ]
  },
  {
   "cell_type": "code",
   "execution_count": 35,
   "metadata": {},
   "outputs": [
    {
     "data": {
      "image/png": "[encoded data removed]",
      "text/plain": [
       "<Figure size 432x288 with 1 Axes>"
      ]
     },
     "metadata": {
      "needs_background": "light"
     },
     "output_type": "display_data"
    }
   ],
   "source": [
    "plt.plot(train_metrics[0],train_metrics[4],'r',label=\"Pretrained Training Kappa\")\n",
    "plt.plot(train_metrics[0],un_train_metrics[4],'b',label=\"Untrained Training Kappa\")\n",
    "plt.xlabel(\"Epochs\")\n",
    "plt.legend()\n",
    "plt.savefig(os.path.join(plots,\"dr_densenet121_kappa_e{}_{}\".format(25,'train')))"
   ]
  },
  {
   "cell_type": "code",
   "execution_count": 36,
   "metadata": {},
   "outputs": [
    {
     "data": {
      "image/png": "[encoded data removed]",
      "text/plain": [
       "<Figure size 432x288 with 1 Axes>"
      ]
     },
     "metadata": {
      "needs_background": "light"
     },
     "output_type": "display_data"
    }
   ],
   "source": [
    "plt.plot(val_metrics[0],val_metrics[4],'r',label=\"Pretrained Val Kappa\")\n",
    "plt.plot(val_metrics[0],un_val_metrics[4],'b',label=\"Untrained Val Kappa\")\n",
    "plt.xlabel(\"Epochs\")\n",
    "plt.legend()\n",
    "plt.savefig(os.path.join(plots,\"dr_densenet121_kappa_e{}_{}\".format(25,'val')))"
   ]
  },
  {
   "cell_type": "code",
   "execution_count": null,
   "metadata": {},
   "outputs": [],
   "source": []
  }
 ],
 "metadata": {
  "kernelspec": {
   "display_name": "Python 3",
   "language": "python",
   "name": "python3"
  },
  "language_info": {
   "codemirror_mode": {
    "name": "ipython",
    "version": 3
   },
   "file_extension": ".py",
   "mimetype": "text/x-python",
   "name": "python",
   "nbconvert_exporter": "python",
   "pygments_lexer": "ipython3",
   "version": "3.8.10"
  }
 },
 "nbformat": 4,
 "nbformat_minor": 4
}
